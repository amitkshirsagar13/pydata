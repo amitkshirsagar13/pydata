{
 "nbformat": 4,
 "nbformat_minor": 2,
 "metadata": {
  "language_info": {
   "name": "python",
   "codemirror_mode": {
    "name": "ipython",
    "version": 3
   },
   "version": "3.7.5"
  },
  "orig_nbformat": 2,
  "file_extension": ".py",
  "mimetype": "text/x-python",
  "name": "python",
  "npconvert_exporter": "python",
  "pygments_lexer": "ipython3",
  "version": 3
 },
 "cells": [
  {
   "cell_type": "markdown",
   "execution_count": null,
   "metadata": {},
   "outputs": [],
   "source": [
    "---\n",
    "\n",
    "## Image Processing using Face Recognition\n",
    "\n",
    "[Image Processing](https://www.youtube.com/watch?v=QSTnwsZj2yc)\n",
    "\n",
    "```\n",
    "pip3 dlib numpy pandas PIL\n",
    "```\n",
    "\n"
   ]
  },
  {
   "cell_type": "code",
   "execution_count": 7,
   "metadata": {},
   "outputs": [],
   "source": [
    "import face_recognition as fc\n",
    "import os\n",
    "\n",
    "def load_images_from_folder(folder):\n",
    "    images = []\n",
    "    for filename in os.listdir(folder):\n",
    "        img = fc.load_image_file(os.path.join(folder,filename))\n",
    "        if img is not None:\n",
    "            images.append(img)\n",
    "    return images\n"
   ]
  },
  {
   "cell_type": "code",
   "execution_count": 13,
   "metadata": {},
   "outputs": [
    {
     "name": "stdout",
     "output_type": "stream",
     "text": "[True, False, False]\n[False, False, True]\n[False, True, True]\n[True, False, False]\n[False, False, True]\n[True, False, False]\n[False, True, True]\n[True, True, True]\n[True, False, False]\n"
    }
   ],
   "source": [
    "import face_recognition as fc\n",
    "from PIL import Image, ImageDraw\n",
    "import os\n",
    "\n",
    "amit_image = fc.load_image_file('./data/img/known/Amit.jpg')\n",
    "amit_face_encoding = fc.face_encodings(amit_image)[0]\n",
    "amogh_image = fc.load_image_file('./data/img/known/Amogh.png')\n",
    "amogh_face_encoding = fc.face_encodings(amogh_image)[0]\n",
    "poonam_image = fc.load_image_file('./data/img/known/Poonam.png')\n",
    "poonam_face_encoding = fc.face_encodings(poonam_image)[0]\n",
    "\n",
    "known_face_encodings = [\n",
    "    amit_face_encoding,\n",
    "    amogh_face_encoding,\n",
    "    poonam_face_encoding\n",
    "]\n",
    "\n",
    "known_face_names = [\n",
    "    'Amit',\n",
    "    'Amogh',\n",
    "    'Poonam'\n",
    "]\n",
    "\n",
    "unknownImages = load_images_from_folder('./data/img/unknown')\n",
    "\n",
    "for index in range(len(unknownImages)):\n",
    "    test_image = unknownImages[index]\n",
    "    # test_image = fc.load_image_file(imageItem)\n",
    "\n",
    "    face_locations = fc.face_locations(test_image)\n",
    "    face_encodings = fc.face_encodings(test_image,face_locations)\n",
    "\n",
    "    pil_image = Image.fromarray(test_image)\n",
    "\n",
    "    draw = ImageDraw.Draw(pil_image)\n",
    "\n",
    "    for(top,right, bottom, left), face_encoding in zip(face_locations, face_encodings):\n",
    "        matches = fc.compare_faces(known_face_encodings, face_encoding)\n",
    "        name = \"Unknown\"\n",
    "        if True in matches:\n",
    "            print(matches)\n",
    "            first_match_index = matches.index(True)\n",
    "            name = known_face_names[first_match_index]\n",
    "            \n",
    "            draw.rectangle(((left,top),(right,bottom)),outline=(0,0,0))\n",
    "            text_width, text_height = draw.textsize(name)\n",
    "\n",
    "            draw.rectangle(((left,bottom - text_height - 10), (right, bottom)), fill=(0,0,255), outline=(0,0,255))\n",
    "            draw.text((left + 6, bottom - text_height - 5), name, fill=(0,0,0))\n",
    "\n",
    "    del draw\n",
    "\n",
    "    # Display image\n",
    "    pil_image.save('./data/img/tmp/'+str(index)+'.jpg')\n"
   ]
  },
  {
   "cell_type": "markdown",
   "execution_count": null,
   "metadata": {},
   "outputs": [],
   "source": [
    "---\n",
    "## Video Processing using OpenCV\n",
    "\n",
    "[Video Processing](https://www.youtube.com/watch?v=Jvf5y21ZqtQ)\n",
    "\n",
    "\n",
    "```\n",
    "pip3 opencv-python numpy pandas\n",
    "```\n"
   ]
  },
  {
   "cell_type": "code",
   "execution_count": 2,
   "metadata": {},
   "outputs": [],
   "source": [
    "import cv2\n",
    "import numpy as np\n",
    "\n",
    "cap = cv2.VideoCapture(0)\n",
    "while True:\n",
    "    ret, frame = cap.read()\n",
    "    cv2.imshow('frame',frame)\n",
    "\n",
    "    if cv2.waitKey(1) & 0xFF == ord('q'):\n",
    "        break\n",
    "    \n",
    "cap.release()\n",
    "cv2.destroyAllWindows()\n"
   ]
  }
 ]
}