{
 "nbformat": 4,
 "nbformat_minor": 2,
 "metadata": {
  "language_info": {
   "name": "python",
   "codemirror_mode": {
    "name": "ipython",
    "version": 2
   },
   "version": "2.7.17"
  },
  "orig_nbformat": 2,
  "file_extension": ".py",
  "mimetype": "text/x-python",
  "name": "python",
  "npconvert_exporter": "python",
  "pygments_lexer": "ipython2",
  "version": 2
 },
 "cells": [
  {
   "cell_type": "code",
   "execution_count": 12,
   "metadata": {},
   "outputs": [],
   "source": [
    "class Calculator:\n",
    "    def addition(self,x, y):\n",
    "        return x + y\n",
    "    def substraction(self,x, y):\n",
    "        return x - y\n",
    "    def multiplication(self,x, y):\n",
    "        return x * y\n",
    "    def substraction(self,x, y):\n",
    "        return x / y\n",
    "    def mod(self,x, y):\n",
    "        return x % y"
   ]
  },
  {
   "cell_type": "code",
   "execution_count": 168,
   "metadata": {},
   "outputs": [
    {
     "name": "stdout",
     "output_type": "stream",
     "text": "22\n"
    }
   ],
   "source": [
    "calc=Calculator()\n",
    "add=calc.addition(19,3)\n",
    "print(add)\n"
   ]
  },
  {
   "cell_type": "code",
   "execution_count": 148,
   "metadata": {},
   "outputs": [],
   "source": [
    "class User(object):\n",
    "    import uuid\n",
    "    import json\n",
    "    from pygments import highlight, lexers, formatters\n",
    "\n",
    "    def __init__(self, name, age, roles, **kwds):\n",
    "        uidx=self.uuid.uuid4()\n",
    "        self.age = age\n",
    "        self.name = name\n",
    "        self.idx = uidx.urn\n",
    "        self.roles = roles\n",
    "\n",
    "    def itemJson(self,ind):\n",
    "        cfjson = highlight(unicode(self.json.dumps(self.__dict__, indent=ind), 'UTF-8'), lexers.JsonLexer(), formatters.TerminalFormatter())\n",
    "        return cfjson"
   ]
  },
  {
   "cell_type": "code",
   "execution_count": 151,
   "metadata": {},
   "outputs": [],
   "source": [
    "class Employee(User):\n",
    "    def __init__(self, name, age, roles, email, **kwds):\n",
    "        super(Employee,self).__init__(name, age, roles)\n",
    "        self.email = email"
   ]
  },
  {
   "cell_type": "code",
   "execution_count": 165,
   "metadata": {},
   "outputs": [
    {
     "name": "stdout",
     "output_type": "stream",
     "text": "{\n  \u001b[94m\"roles\"\u001b[39;49;00m: [\n    \u001b[33m\"admin\"\u001b[39;49;00m, \n    \u001b[33m\"user\"\u001b[39;49;00m, \n    \u001b[34m13\u001b[39;49;00m\n  ], \n  \u001b[94m\"age\"\u001b[39;49;00m: \u001b[34m10\u001b[39;49;00m, \n  \u001b[94m\"name\"\u001b[39;49;00m: \u001b[33m\"Amogh\"\u001b[39;49;00m, \n  \u001b[94m\"idx\"\u001b[39;49;00m: \u001b[33m\"urn:uuid:0d9b6d97-3d94-467c-87b7-e38dedbdfc61\"\u001b[39;49;00m\n}\n----------------------------------------------------------\n{\n  \u001b[94m\"roles\"\u001b[39;49;00m: [\n    \u001b[33m\"admin\"\u001b[39;49;00m, \n    \u001b[33m\"user\"\u001b[39;49;00m, \n    \u001b[34m13\u001b[39;49;00m\n  ], \n  \u001b[94m\"age\"\u001b[39;49;00m: \u001b[34m10\u001b[39;49;00m, \n  \u001b[94m\"name\"\u001b[39;49;00m: \u001b[33m\"Amogh\"\u001b[39;49;00m, \n  \u001b[94m\"idx\"\u001b[39;49;00m: \u001b[33m\"urn:uuid:b2ca2889-3478-4567-974f-b9f81eee9dbf\"\u001b[39;49;00m, \n  \u001b[94m\"email\"\u001b[39;49;00m: \u001b[33m\"amogh@gmail.com\"\u001b[39;49;00m\n}\n\n"
    }
   ],
   "source": [
    "amogh=User(\"Amogh\",10, ['admin', 'user', 13])\n",
    "sjson = amogh.itemJson(2)\n",
    "print(sjson),\n",
    "print(\"----------------------------------------------------------\")\n",
    "amogh=Employee(\"Amogh\",10, ['admin', 'user', 13], 'amogh@gmail.com')\n",
    "sjson = amogh.itemJson(2)\n",
    "print(sjson)"
   ]
  }
 ]
}