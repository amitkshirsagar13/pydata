{
 "nbformat": 4,
 "nbformat_minor": 2,
 "metadata": {
  "language_info": {
   "name": "python",
   "codemirror_mode": {
    "name": "ipython",
    "version": 2
   },
   "version": "3.6.9"
  },
  "orig_nbformat": 2,
  "file_extension": ".py",
  "mimetype": "text/x-python",
  "name": "python",
  "npconvert_exporter": "python",
  "pygments_lexer": "ipython2",
  "version": 2
 },
 "cells": [
  {
   "cell_type": "markdown",
   "execution_count": 6,
   "metadata": {},
   "outputs": [],
   "source": [
    "# Puzzles for Logic Tests\n",
    "### Floyd Triangle\n",
    "\n",
    "```\n",
    "1 \n",
    "2 3 \n",
    "4 5 6 \n",
    "7 8 9 10 \n",
    "11 12 13 14 15 \n",
    "16 17 18 19 20 21 \n",
    "```"
   ]
  },
  {
   "cell_type": "code",
   "execution_count": 1,
   "metadata": {},
   "outputs": [
    {
     "name": "stdout",
     "output_type": "stream",
     "text": "\n1 \n2 3 \n4 5 6 \n7 8 9 10 \n11 12 13 14 15 \n16 17 18 19 20 21 \n"
    }
   ],
   "source": [
    "ln=8\n",
    "n=0\n",
    "for indexi in range(1,ln):\n",
    "    for indexj in range(1,indexi):\n",
    "        n+=1\n",
    "        print(n, end=\" \")\n",
    "    print('')"
   ]
  },
  {
   "cell_type": "code",
   "execution_count": 2,
   "metadata": {},
   "outputs": [
    {
     "name": "stdout",
     "output_type": "stream",
     "text": "70330367711422815821835254877183549770181269836358732742604905087154537118196933579742249494562611733487750449241765991088186363265450223647106012053374121273867339111198139373125598767690091902245245323403501\n618\n70330367711422815821835254877183549770181269836358732742604905087154537118196933579742249494562611733487750449241765991088186363265450223647106012053374121273867339111198139373125598767690091902245245323403501\n2757\n"
    }
   ],
   "source": [
    "import pandas\n",
    "# Fibonacci Series\n",
    "\n",
    "def fibonaccifor(ln):\n",
    "    a=0\n",
    "    b=1\n",
    "    n=-1\n",
    "    for index in range(0,ln):\n",
    "        # print(a)\n",
    "        n=a+b\n",
    "        a=b\n",
    "        b=n\n",
    "    return n\n",
    "\n",
    "from datetime import datetime\n",
    "dt = datetime.now()\n",
    "start=dt.microsecond\n",
    "ln=1000\n",
    "ans=fibonaccifor(ln)\n",
    "print(ans)\n",
    "dt = datetime.now()\n",
    "end=dt.microsecond\n",
    "print(end-start)\n",
    "\n",
    "def fibonacci(index):\n",
    "    if index < 0:\n",
    "        return 0\n",
    "    if dp[index] > -1:\n",
    "        return dp[index]\n",
    "    rn=-1\n",
    "    if index == 0:\n",
    "        rn=0\n",
    "    if index == 1:\n",
    "        rn=1\n",
    "    if rn > -1:\n",
    "        dp[index]=rn\n",
    "    if dp[index] > -1:\n",
    "        return dp[index]\n",
    "    rn = fibonacci(index - 1) + fibonacci(index - 2)\n",
    "    dp[index]=rn\n",
    "    return dp[index]    \n",
    "\n",
    "dt = datetime.now()\n",
    "start=dt.microsecond\n",
    "ln=1001\n",
    "dp=[-1]*(ln+1)\n",
    "ans=fibonacci(ln)\n",
    "print(ans)\n",
    "dt = datetime.now()\n",
    "end=dt.microsecond\n",
    "print(end-start)"
   ]
  },
  {
   "cell_type": "code",
   "execution_count": 3,
   "metadata": {},
   "outputs": [
    {
     "name": "stdout",
     "output_type": "stream",
     "text": "Ans: [15, 16, 13, 17, 11]\n"
    }
   ],
   "source": [
    "### https://www.geeksforgeeks.org/a-sum-array-puzzle/\n",
    "\n",
    "items=[3,2,5,1,7]\n",
    "ln=len(items)\n",
    "nitems=[0]*ln\n",
    "def start():\n",
    "    isum=0\n",
    "    for i in range(ln):\n",
    "        nitems[i]=items[i]*-1\n",
    "        isum+=items[i]\n",
    "    sitems=[isum]*ln\n",
    "    for i in range(ln):\n",
    "        sitems[i]=sitems[i]+nitems[i]\n",
    "    return sitems\n",
    "\n",
    "sitems=start()\n",
    "print('Ans:', sitems)"
   ]
  },
  {
   "cell_type": "code",
   "execution_count": 4,
   "metadata": {},
   "outputs": [
    {
     "name": "stdout",
     "output_type": "stream",
     "text": "18\n[3, 2, 5, 1, 7]\n[15, 13, 8, 7, 0]\n[0, 3, 5, 10, 11]\nSum:  [15, 16, 13, 17, 11]\n"
    }
   ],
   "source": [
    "### a-sum-array-puzzle\n",
    "'''\n",
    "    https://www.geeksforgeeks.org/a-sum-array-puzzle/\n",
    "'''\n",
    "items=[3,2,5,1,7]\n",
    "isum=0\n",
    "for i in items:\n",
    "    isum+=i\n",
    "print(isum)\n",
    "ln=len(items)\n",
    "def start():\n",
    "    print(items)\n",
    "    rsum=[0]*ln\n",
    "    for i in range(ln-2,-1,-1):\n",
    "        rsum[i]=rsum[i+1]+items[i+1]\n",
    "    print(rsum)\n",
    "    lsum=[0]*ln\n",
    "    for i in range(1,ln):\n",
    "        lsum[i]=lsum[i-1]+items[i-1]\n",
    "    print(lsum)\n",
    "    fsum=[0]*ln\n",
    "    for i in range(ln-1,-1,-1):\n",
    "        fsum[i]=rsum[i]+lsum[i]\n",
    "    return fsum\n",
    "\n",
    "fsum=start()\n",
    "print('Sum: ',fsum)"
   ]
  },
  {
   "cell_type": "code",
   "execution_count": 5,
   "metadata": {},
   "outputs": [
    {
     "name": "stdout",
     "output_type": "stream",
     "text": "[30, 20, 50]\n50\n"
    }
   ],
   "source": [
    "### pair-with-largest-sum-which-is-less-than-k-in-the-array\n",
    "'''\n",
    "    https://www.geeksforgeeks.org/pair-with-largest-sum-which-is-less-than-k-in-the-array/\n",
    "'''\n",
    "k=70\n",
    "items=[30, 20, 50]\n",
    "print(items)\n",
    "ln=len(items)\n",
    "\n",
    "imax=0\n",
    "def max(isum):\n",
    "    return imax if imax > isum else isum\n",
    "\n",
    "for i in range(ln):\n",
    "    for j in range(ln):\n",
    "        isum = items[i]+items[j]\n",
    "        if (i!=j and isum<k):\n",
    "            imax=max(isum)\n",
    "\n",
    "print(imax)\n",
    "    \n"
   ]
  }
 ]
}