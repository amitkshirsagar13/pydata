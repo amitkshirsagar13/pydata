{
 "nbformat": 4,
 "nbformat_minor": 2,
 "metadata": {
  "language_info": {
   "name": "python",
   "codemirror_mode": {
    "name": "ipython",
    "version": 2
   },
   "version": "3.6.9"
  },
  "orig_nbformat": 2,
  "file_extension": ".py",
  "mimetype": "text/x-python",
  "name": "python",
  "npconvert_exporter": "python",
  "pygments_lexer": "ipython2",
  "version": 2
 },
 "cells": [
  {
   "cell_type": "markdown",
   "metadata": {},
   "outputs": [],
   "source": [
    "# Puzzles for Logic Tests\n",
    "\n",
    "\n",
    "### Floyds Triangle\n",
    "\n",
    "[floyds-triangle] (https://www.geeksforgeeks.org/c-program-print-floyds-triangle/)\n",
    "\n",
    "```\n",
    "1 \n",
    "2 3 \n",
    "4 5 6 \n",
    "7 8 9 10 \n",
    "11 12 13 14 15 \n",
    "16 17 18 19 20 21 \n",
    "```"
   ]
  },
  {
   "cell_type": "code",
   "execution_count": 1,
   "metadata": {},
   "outputs": [
    {
     "name": "stdout",
     "output_type": "stream",
     "text": "\n1 \n2 3 \n4 5 6 \n7 8 9 10 \n11 12 13 14 15 \n16 17 18 19 20 21 \n"
    }
   ],
   "source": [
    "ln=8\n",
    "n=0\n",
    "for indexi in range(1,ln):\n",
    "    for indexj in range(1,indexi):\n",
    "        n+=1\n",
    "        print(n, end=\" \")\n",
    "    print('')"
   ]
  },
  {
   "cell_type": "markdown",
   "metadata": {},
   "outputs": [],
   "source": [
    "### Fibonacci Series\n",
    "[fibonacci-series](https://www.geeksforgeeks.org/program-for-nth-fibonacci-number/)\n",
    "```\n",
    "0 1 1 2 3 5 8 13 21 34\n",
    "```"
   ]
  },
  {
   "cell_type": "code",
   "execution_count": 2,
   "metadata": {},
   "outputs": [
    {
     "name": "stdout",
     "output_type": "stream",
     "text": "loop fibs:  563963353180680437428706474693749258212475354428320807161115873039415970\nmills:  927\nrecursive fibs:  563963353180680437428706474693749258212475354428320807161115873039415970\nmills:  655\n"
    }
   ],
   "source": [
    "import pandas\n",
    "\n",
    "def fibonaccifor(ln):\n",
    "    a=0\n",
    "    b=1\n",
    "    n=-1\n",
    "    for index in range(0,ln):\n",
    "        # print(a)\n",
    "        n=a+b\n",
    "        a=b\n",
    "        b=n\n",
    "    return n\n",
    "\n",
    "from datetime import datetime\n",
    "dt = datetime.now()\n",
    "start=dt.microsecond\n",
    "ln=344\n",
    "ans=fibonaccifor(ln)\n",
    "print('loop fibs: ', ans)\n",
    "dt = datetime.now()\n",
    "end=dt.microsecond\n",
    "print('mills: ',end-start)\n",
    "\n",
    "def fibonacci(index):\n",
    "    if dp[index] > -1:\n",
    "        return dp[index]\n",
    "    if index < 1:\n",
    "        rn=0\n",
    "    if 0 < index and index < 3:\n",
    "        rn=1\n",
    "    if  2 < index:\n",
    "        rn = fibonacci(index - 1) + fibonacci(index - 2)\n",
    "    dp[index]=rn\n",
    "    return dp[index]    \n",
    "\n",
    "dt = datetime.now()\n",
    "start=dt.microsecond\n",
    "ln=345\n",
    "dp=[-1]*(ln+1)\n",
    "ans=fibonacci(ln)\n",
    "print('recursive fibs: ', ans)\n",
    "dt = datetime.now()\n",
    "end=dt.microsecond\n",
    "print('mills: ',end-start)"
   ]
  },
  {
   "cell_type": "markdown",
   "metadata": {},
   "outputs": [],
   "source": [
    "### a-sum-array-puzzle\n",
    "[a-sum-array-puzzle](https://www.geeksforgeeks.org/a-sum-array-puzzle/)\n",
    "\n",
    "```\n",
    "Given an array arr[] of n integers, construct a Sum Array sum[] (of same size) such that sum[i] is equal to the sum of all the elements of arr[] except arr[i]. Solve it without subtraction operator and in O(n).\n",
    "\n",
    "Examples:\n",
    "\n",
    "Input : arr[] = {3, 6, 4, 8, 9}\n",
    "Output : sum[] = {27, 24, 26, 22, 21}\n",
    "\n",
    "\n",
    "```\n"
   ]
  },
  {
   "cell_type": "code",
   "execution_count": 3,
   "metadata": {},
   "outputs": [
    {
     "name": "stdout",
     "output_type": "stream",
     "text": "isum:  18\nitems:  [3, 2, 5, 1, 7]\nrsum:  [15, 13, 8, 7, 0]\nlsum:  [0, 3, 5, 10, 11]\nSum:  [15, 16, 13, 17, 11]\n"
    }
   ],
   "source": [
    "items=[3,2,5,1,7]\n",
    "isum=0\n",
    "for i in items:\n",
    "    isum+=i\n",
    "print('isum: ', isum)\n",
    "ln=len(items)\n",
    "def start():\n",
    "    print('items: ', items)\n",
    "    rsum=[0]*ln\n",
    "    for i in range(ln-2,-1,-1):\n",
    "        rsum[i]=rsum[i+1]+items[i+1]\n",
    "    print('rsum: ', rsum)\n",
    "    lsum=[0]*ln\n",
    "    for i in range(1,ln):\n",
    "        lsum[i]=lsum[i-1]+items[i-1]\n",
    "    print('lsum: ', lsum)\n",
    "    fsum=[0]*ln\n",
    "    for i in range(ln-1,-1,-1):\n",
    "        fsum[i]=rsum[i]+lsum[i]\n",
    "    return fsum\n",
    "\n",
    "fsum=start()\n",
    "print('Sum: ',fsum)"
   ]
  },
  {
   "cell_type": "markdown",
   "metadata": {},
   "outputs": [],
   "source": [
    "### a-sum-array-puzzle\n",
    "[a-sum-array-puzzle](https://www.geeksforgeeks.org/a-sum-array-puzzle/)\n",
    "\n",
    "Alternate solution\n",
    "\n",
    "```\n",
    "Given an array arr[] of n integers, construct a Sum Array sum[] (of same size) such that sum[i] is equal to the sum of all the elements of arr[] except arr[i]. Solve it without subtraction operator and in O(n).\n",
    "\n",
    "Examples:\n",
    "\n",
    "Input : arr[] = {3, 6, 4, 8, 9}\n",
    "Output : sum[] = {27, 24, 26, 22, 21}\n",
    "\n",
    "\n",
    "```"
   ]
  },
  {
   "cell_type": "code",
   "execution_count": 4,
   "metadata": {},
   "outputs": [
    {
     "name": "stdout",
     "output_type": "stream",
     "text": "Ans: [27, 24, 26, 22, 21]\n"
    }
   ],
   "source": [
    "items=[3, 6, 4, 8, 9]\n",
    "ln=len(items)\n",
    "nitems=[0]*ln\n",
    "def start():\n",
    "    isum=0\n",
    "    for i in range(ln):\n",
    "        nitems[i]=items[i]*-1\n",
    "        isum+=items[i]\n",
    "    sitems=[isum]*ln\n",
    "    for i in range(ln):\n",
    "        sitems[i]=sitems[i]+nitems[i]\n",
    "    return sitems\n",
    "\n",
    "sitems=start()\n",
    "print('Ans:', sitems)"
   ]
  },
  {
   "cell_type": "markdown",
   "metadata": {},
   "outputs": [],
   "source": [
    "### pair-with-largest-sum-which-is-less-than-k-in-the-array\n",
    "[pair-with-largest-sum-which-is-less-than-k-in-the-array](https://www.geeksforgeeks.org/pair-with-largest-sum-which-is-less-than-k-in-the-array/)\n",
    "```\n",
    "Given an array arr of size N and an integer K. The task is to find the pair of intergers such that their sum is maximum and but less than K\n",
    "\n",
    "Examples:\n",
    "\n",
    "Input : arr = {30, 20, 50} , K = 70\n",
    "Output : 30, 20\n",
    "30 + 20 = 50 which is maximum possible usm which is less than K\n",
    "```"
   ]
  },
  {
   "cell_type": "code",
   "execution_count": 5,
   "metadata": {},
   "outputs": [
    {
     "name": "stdout",
     "output_type": "stream",
     "text": "items:  [30, 20, 50]\nimax:  50\n"
    }
   ],
   "source": [
    "k=70\n",
    "items=[30, 20, 50]\n",
    "print('items: ', items)\n",
    "ln=len(items)\n",
    "\n",
    "imax=0\n",
    "def max(isum):\n",
    "    return imax if imax > isum else isum\n",
    "\n",
    "for i in range(ln):\n",
    "    for j in range(ln):\n",
    "        isum = items[i]+items[j]\n",
    "        if (i!=j and isum<k):\n",
    "            imax=max(isum)\n",
    "\n",
    "print('imax: ', imax)\n",
    "    \n"
   ]
  }
 ]
}