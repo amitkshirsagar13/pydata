{
 "metadata": {
  "language_info": {
   "codemirror_mode": {
    "name": "ipython",
    "version": 3
   },
   "file_extension": ".py",
   "mimetype": "text/x-python",
   "name": "python",
   "nbconvert_exporter": "python",
   "pygments_lexer": "ipython3",
   "version": "3.8.3"
  },
  "orig_nbformat": 2,
  "kernelspec": {
   "name": "python383jvsc74a57bd02db524e06e9f5f4ffedc911c917cb75e12dbc923643829bf417064a77eb14d37",
   "display_name": "Python 3.8.3 64-bit"
  },
  "metadata": {
   "interpreter": {
    "hash": "2db524e06e9f5f4ffedc911c917cb75e12dbc923643829bf417064a77eb14d37"
   }
  }
 },
 "nbformat": 4,
 "nbformat_minor": 2,
 "cells": [
  {
   "cell_type": "code",
   "execution_count": null,
   "metadata": {},
   "outputs": [],
   "source": [
    "import numpy as np\n",
    "from matplotlib import pyplot as plt\n",
    "from random import randint\n",
    "import random as rnd\n",
    "\n",
    "import math\n",
    "import time\n"
   ]
  },
  {
   "cell_type": "code",
   "execution_count": null,
   "metadata": {},
   "outputs": [],
   "source": [
    "class City:\n",
    "    def __init__(self, x, y, index):\n",
    "        self.x = x\n",
    "        self.y = y\n",
    "        self.name = 'C' + str(index)\n",
    "\n",
    "    def __str__(self):\n",
    "        return \"{}| [{},{}]\".format(self.name, self.x, self.y)\n"
   ]
  },
  {
   "cell_type": "code",
   "execution_count": null,
   "metadata": {},
   "outputs": [],
   "source": [
    "linkDistance = {}\n",
    "\n",
    "def getDistance(city1, city2, link, rLink):\n",
    "    distance = math.hypot(city1.x - city2.x, city1.y - city2.y)\n",
    "    linkDistance[link] = distance\n",
    "    linkDistance[rLink] = distance\n",
    "    return distance\n",
    "\n",
    "def lookupDistance(city1, city2):\n",
    "    link = \"{}->{}\".format(city1.name,city2.name)\n",
    "    rLink = \"{}->{}\".format(city2.name,city1.name)\n",
    "    distance = -1\n",
    "    if link in linkDistance or rLink in linkDistance:\n",
    "        distance = linkDistance.get(link)\n",
    "    else:\n",
    "        distance = getDistance(city1, city2, link, rLink)\n",
    "    return distance\n",
    "\n",
    "def getTrueRouteDistance(route):\n",
    "    index = 0\n",
    "    distance = 0\n",
    "    while index < len(route)-1:\n",
    "        distance = distance + math.hypot(route[index].x - route[index+1].x, route[index].y - route[index+1].y)\n",
    "        index = index + 1\n",
    "    return distance"
   ]
  },
  {
   "cell_type": "code",
   "execution_count": null,
   "metadata": {},
   "outputs": [],
   "source": [
    "cachedSol = {}\n",
    "cachedDist = {}\n",
    "\n",
    "def getSubLink(startCity, subCities): \n",
    "    # sortedSubCities = sorted(subCities, key=lambda city: city.name)\n",
    "    subLink =  startCity.name + \" -> \"\n",
    "    for city in subCities:\n",
    "        subLink = subLink + city.name + \" -> \"\n",
    "    return subLink\n",
    "\n",
    "def lookupSolution(cKey, lookupCache):\n",
    "    cDist = -1\n",
    "    cRoute = []\n",
    "    if lookupCache and cKey in cachedDist:\n",
    "        cDist = cachedDist[cKey]\n",
    "        cRoute = cachedSol[cKey]\n",
    "    return cDist, cRoute\n"
   ]
  },
  {
   "cell_type": "code",
   "execution_count": null,
   "metadata": {},
   "outputs": [],
   "source": [
    "def printSolution(lapse, solution, minDist, start):\n",
    "    print(\"Route Distance ({}): Solved {} Cities with Best Distance [{}]\".format(lapse,len(solution), minDist))\n",
    "    routeString = \"\"\n",
    "    for city in solution:\n",
    "        routeString = routeString + city.name + \" -> \"\n",
    "        plt.annotate(city.name, (city.x, city.y))\n",
    "\n",
    "    routeString = routeString + start.name\n",
    "\n",
    "    print(routeString)\n",
    "    x = [city.x for city in solution]\n",
    "    y = [city.y for city in solution]\n",
    "    x.append(start.x)\n",
    "    y.append(start.y)\n",
    "    plt.plot(x, y)\n",
    "    plt.show()\n"
   ]
  },
  {
   "cell_type": "code",
   "execution_count": null,
   "metadata": {},
   "outputs": [],
   "source": [
    "def solveDistance(startCity, subCityList, cout, lookupCache, printChange):\n",
    "    routeDistance = -1\n",
    "    localMinDistance = -1\n",
    "    if len(subCityList) == 1:\n",
    "        localRoute = [startCity]\n",
    "        destCity = list(subCityList)[0]\n",
    "        localRoute.append(destCity)\n",
    "        localMinDistance = lookupDistance(startCity, destCity)\n",
    "    else:\n",
    "        for sCity in subCityList:\n",
    "            startRouteDistance = lookupDistance(startCity, sCity)\n",
    "            subCity = subCityList.copy() \n",
    "            subCity.remove(sCity)\n",
    "            subRoute = []\n",
    "            subRouteDistance = -1\n",
    "            subLink = getSubLink(sCity, subCity)\n",
    "            subRouteDistance, subRoute = lookupSolution(subLink, lookupCache)\n",
    "            if subRouteDistance < 0:\n",
    "                subRouteDistance, subRoute = solveDistance(sCity, subCity, cout, lookupCache, printChange)\n",
    "                cachedSol[subLink] = subRoute\n",
    "                cachedDist[subLink] = subRouteDistance\n",
    "\n",
    "            subRouteDistance = subRouteDistance + startRouteDistance\n",
    "            if localMinDistance > subRouteDistance or localMinDistance < 0:\n",
    "                localRoute = [startCity]\n",
    "                localMinDistance = subRouteDistance\n",
    "                for c in subRoute:\n",
    "                    localRoute.append(c)\n",
    "                count = len(localRoute)\n",
    "                if printChange and count == cout:\n",
    "                    print(\"Cities {} -> {} | Min Route[Changed]: {}\".format(startCity, count, localMinDistance))\n",
    "    routeDistance = localMinDistance\n",
    "    return routeDistance, localRoute\n"
   ]
  },
  {
   "cell_type": "code",
   "execution_count": null,
   "metadata": {},
   "outputs": [],
   "source": [
    "def getCitySet(cityCount):\n",
    "    index=1\n",
    "    citySet = set()\n",
    "    while len(citySet) < cityCount:\n",
    "        x, y = randint(5, 500), randint(5, 500)\n",
    "        citySet.add(City(x, y, index))\n",
    "        index=index+1\n",
    "    citySet = sorted(citySet, key=lambda city: city.name)\n",
    "    return citySet"
   ]
  },
  {
   "source": [
    "### Solve Problem N number of times, each time Scramble CityList to see if results get better"
   ],
   "cell_type": "markdown",
   "metadata": {}
  },
  {
   "cell_type": "code",
   "execution_count": null,
   "metadata": {
    "tags": []
   },
   "outputs": [],
   "source": [
    "def solveMultipleTimes(retryIndex, citySet, printChange):\n",
    "    bestDistance = -1\n",
    "    bestRoute = []\n",
    "    sPoint = citySet[0]\n",
    "    cityCount = len(citySet)\n",
    "    retryCount = 0\n",
    "    lookupCache = True\n",
    "    \n",
    "    # Cleanup Dynamic Results Cachede\n",
    "    cachedSol = {}\n",
    "    cachedDist = {}\n",
    "    linkDistance = {}\n",
    "    startIterative = time.time()\n",
    "    while retryCount < cityCount*retryIndex:\n",
    "        startPoint = citySet[retryCount]\n",
    "        sCityList = citySet.copy() \n",
    "        sCityList.remove(startPoint)\n",
    "        rnd.shuffle(sCityList)\n",
    "        retryCount = retryCount + 1\n",
    "\n",
    "        # # Cleanup Dynamic Results Cachede\n",
    "        # cachedSol = {}\n",
    "        # cachedDist = {}\n",
    "        # linkDistance = {}\n",
    "\n",
    "\n",
    "        start = time.time()\n",
    "        routeDistance, route = solveDistance(startPoint, sCityList, len(citySet), lookupCache, printChange)\n",
    "        end = time.time()\n",
    "        if bestDistance > routeDistance or bestDistance < 0:\n",
    "            bestRoute = route\n",
    "            bestDistance = routeDistance\n",
    "            printSolution(end-start, bestRoute, bestDistance, startPoint)\n",
    "            sPoint = startPoint\n",
    "    endIterative = time.time()\n",
    "    print(\"XXXXXXXXXXXXXXXXXXXXXXXXXXXXXXXXXXXXXXXXXXXXXXXXXXXXXXXXXXXXXXXXXXXXXX\")\n",
    "    print(\"Finished Multiple Solutions ({}) {}/{}\".format(endIterative-startIterative, retryCount, cityCount))\n",
    "    print(\"XXXXXXXXXXXXXXXXXXXXXXXXXXXXXXXXXXXXXXXXXXXXXXXXXXXXXXXXXXXXXXXXXXXXXX\")\n",
    "    bestDistance = getTrueRouteDistance(bestRoute)\n",
    "    printSolution(endIterative-startIterative, bestRoute, bestDistance, sPoint)\n",
    "    print(\"XXXXXXXXXXXXXXXXXXXXXXXXXXXXXXXXXXXXXXXXXXXXXXXXXXXXXXXXXXXXXXXXXXXXXX\")\n",
    "    print(\"Finished Multiple Solutions ({}) {}/{}\".format(endIterative-startIterative, retryCount, cityCount))\n",
    "    print(\"XXXXXXXXXXXXXXXXXXXXXXXXXXXXXXXXXXXXXXXXXXXXXXXXXXXXXXXXXXXXXXXXXXXXXX\")"
   ]
  },
  {
   "source": [
    "### Mostly without randomly scrabling the cityList, we wont get Results properly."
   ],
   "cell_type": "markdown",
   "metadata": {}
  },
  {
   "cell_type": "code",
   "execution_count": null,
   "metadata": {},
   "outputs": [],
   "source": [
    "citySet = getCitySet(15)\n",
    "cachedSol = {}\n",
    "cachedDist = {}\n",
    "linkDistance = {}\n",
    "lookupCache = True\n",
    "printChange = True\n",
    "\n",
    "c1 = citySet[0]\n",
    "sCityList = citySet.copy() \n",
    "sCityList.remove(c1)\n",
    "start = time.time()\n",
    "routeDistance, route = solveDistance(c1, sCityList, len(citySet), lookupCache, printChange)\n",
    "end = time.time()\n",
    "printSolution(end-start, route, routeDistance, c1)"
   ]
  },
  {
   "cell_type": "code",
   "execution_count": null,
   "metadata": {},
   "outputs": [],
   "source": [
    "# citySet = getCitySet(16)\n",
    "printChange = False\n",
    "\n",
    "# Iterate all Cities as start Point\n",
    "retryCount = 1\n",
    "\n",
    "# Iterate 50% Cities as start Point\n",
    "retryCount = 0.75\n",
    "solveMultipleTimes(retryCount, citySet, printChange)"
   ]
  },
  {
   "cell_type": "code",
   "execution_count": null,
   "metadata": {},
   "outputs": [],
   "source": []
  }
 ]
}