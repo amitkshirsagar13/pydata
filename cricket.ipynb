{
 "nbformat": 4,
 "nbformat_minor": 2,
 "metadata": {
  "language_info": {
   "name": "python",
   "codemirror_mode": {
    "name": "ipython",
    "version": 3
   },
   "version": "3.7.5-final"
  },
  "orig_nbformat": 2,
  "file_extension": ".py",
  "mimetype": "text/x-python",
  "name": "python",
  "npconvert_exporter": "python",
  "pygments_lexer": "ipython3",
  "version": 3,
  "kernelspec": {
   "name": "python37564bit6b5c99c00b254dd4a7ad37ca521e5b58",
   "display_name": "Python 3.7.5 64-bit"
  }
 },
 "cells": [
  {
   "source": [
    "import pandas as pd\n",
    "import yaml\n",
    "from pandas.io.json import json_normalize\n",
    "\n",
    ""
   ],
   "cell_type": "code",
   "outputs": [],
   "metadata": {},
   "execution_count": 4
  },
  {
   "source": [
    "\n",
    "def read_yaml(fileName):\n",
    "    with open(fileName, 'r') as stream:\n",
    "        data = yaml.load(stream, Loader=yaml.FullLoader)\n",
    "        return data\n",
    ""
   ],
   "cell_type": "code",
   "outputs": [],
   "metadata": {},
   "execution_count": 5
  },
  {
   "source": [
    "\n",
    "fileName='./data/cricket/211028.yaml'\n",
    "data=read_yaml(fileName)\n",
    "\n",
    "print(data['meta']['created'])"
   ],
   "cell_type": "code",
   "outputs": [
    {
     "output_type": "stream",
     "name": "stdout",
     "text": "2013-02-22\n"
    }
   ],
   "metadata": {},
   "execution_count": 6
  },
  {
   "cell_type": "code",
   "execution_count": 31,
   "metadata": {},
   "outputs": [],
   "source": [
    "\n",
    "dict_file = [{'sports' : ['soccer', 'football', 'basketball', 'cricket', 'hockey', 'table tennis']},\n",
    "{'countries' : ['Pakistan', 'USA', 'India', 'China', 'Germany', 'France', 'Spain']}]\n",
    "\n",
    "with open(r'./data/store_file.yaml', 'w') as file:\n",
    "    documents = yaml.dump(dict_file, file)"
   ]
  },
  {
   "cell_type": "code",
   "execution_count": null,
   "metadata": {},
   "outputs": [],
   "source": [
    "\n",
    "fileName='./data/store_file.yaml'\n",
    "data=read_yaml(fileName)\n",
    "\n"
   ]
  }
 ]
}